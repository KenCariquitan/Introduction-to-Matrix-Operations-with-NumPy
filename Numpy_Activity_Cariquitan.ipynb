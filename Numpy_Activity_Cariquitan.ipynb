{
  "cells": [
    {
      "cell_type": "code",
      "execution_count": 83,
      "id": "ae2a1135-61ba-40a2-918f-879dde980ba2",
      "metadata": {
        "id": "ae2a1135-61ba-40a2-918f-879dde980ba2"
      },
      "outputs": [],
      "source": [
        "import numpy as np"
      ]
    },
    {
      "cell_type": "markdown",
      "id": "f783bf91-4217-41b5-b8d7-36ead4f824dd",
      "metadata": {
        "id": "f783bf91-4217-41b5-b8d7-36ead4f824dd"
      },
      "source": [
        "# Create a 2x3 matrix"
      ]
    },
    {
      "cell_type": "code",
      "execution_count": 84,
      "id": "bf433d40-7f1d-4f57-9e79-9e97f5e2b86e",
      "metadata": {
        "colab": {
          "base_uri": "https://localhost:8080/"
        },
        "id": "bf433d40-7f1d-4f57-9e79-9e97f5e2b86e",
        "outputId": "67b2824c-2b62-4f4f-ae9a-b04f9b837264"
      },
      "outputs": [
        {
          "output_type": "stream",
          "name": "stdout",
          "text": [
            "Matrix A:\n",
            "[[1 2 3]\n",
            " [4 5 6]]\n"
          ]
        }
      ],
      "source": [
        "\n",
        "A = np.array([[1, 2, 3], [4, 5, 6]])\n",
        "print(\"Matrix A:\")\n",
        "print(A)"
      ]
    },
    {
      "cell_type": "code",
      "execution_count": 85,
      "id": "072dc7b7-dd81-4258-89ba-1238b9637766",
      "metadata": {
        "colab": {
          "base_uri": "https://localhost:8080/"
        },
        "id": "072dc7b7-dd81-4258-89ba-1238b9637766",
        "outputId": "2bf0b6c2-9389-4cc2-c8d0-236e9e83cf89"
      },
      "outputs": [
        {
          "output_type": "stream",
          "name": "stdout",
          "text": [
            "Zero Matrix:\n",
            "[[0. 0. 0.]\n",
            " [0. 0. 0.]\n",
            " [0. 0. 0.]]\n",
            "Identity Matrix:\n",
            "[[1. 0. 0.]\n",
            " [0. 1. 0.]\n",
            " [0. 0. 1.]]\n"
          ]
        }
      ],
      "source": [
        "# 3x3 Zero Matrix\n",
        "zero_matrix = np.zeros((3, 3))\n",
        "print(\"Zero Matrix:\")\n",
        "print(zero_matrix)\n",
        "\n",
        "# 3x3 Identity Matrix\n",
        "identity_matrix = np.eye(3)\n",
        "print(\"Identity Matrix:\")\n",
        "print(identity_matrix)"
      ]
    },
    {
      "cell_type": "markdown",
      "id": "83b28a23-51c3-4cf3-9c06-c1596fa022b1",
      "metadata": {
        "id": "83b28a23-51c3-4cf3-9c06-c1596fa022b1"
      },
      "source": [
        "# Define two matrices of the same shape"
      ]
    },
    {
      "cell_type": "code",
      "execution_count": 86,
      "id": "c21175cf-a3a7-4a6c-8683-b69814f4a6dc",
      "metadata": {
        "colab": {
          "base_uri": "https://localhost:8080/"
        },
        "id": "c21175cf-a3a7-4a6c-8683-b69814f4a6dc",
        "outputId": "de5855c0-6bc3-44b6-dfd7-b198f654053f"
      },
      "outputs": [
        {
          "output_type": "stream",
          "name": "stdout",
          "text": [
            "B + C:\n",
            "[[ 6  8]\n",
            " [10 12]]\n",
            "B - C:\n",
            "[[-4 -4]\n",
            " [-4 -4]]\n"
          ]
        }
      ],
      "source": [
        "B = np.array([[1, 2], [3, 4]])\n",
        "C = np.array([[5, 6], [7, 8]])\n",
        "\n",
        "# Matrix Addition\n",
        "addition_result = B + C\n",
        "print(\"B + C:\")\n",
        "print(addition_result)\n",
        "\n",
        "# Matrix Subtraction\n",
        "subtraction_result = B - C\n",
        "print(\"B - C:\")\n",
        "print(subtraction_result)"
      ]
    },
    {
      "cell_type": "markdown",
      "id": "3f19c080-3f3a-4cce-a69d-49a69eb4ae07",
      "metadata": {
        "id": "3f19c080-3f3a-4cce-a69d-49a69eb4ae07"
      },
      "source": [
        "# Excersise 1"
      ]
    },
    {
      "cell_type": "code",
      "execution_count": 87,
      "id": "ccd79105-37c5-407a-92ab-3b8a947d1cea",
      "metadata": {
        "colab": {
          "base_uri": "https://localhost:8080/"
        },
        "id": "ccd79105-37c5-407a-92ab-3b8a947d1cea",
        "outputId": "6558e159-37df-482b-9545-47cfd73d391a"
      },
      "outputs": [
        {
          "output_type": "stream",
          "name": "stdout",
          "text": [
            "B + C:\n",
            "[[ 7  7]\n",
            " [12  9]]\n",
            "B - C:\n",
            "[[3 5]\n",
            " [4 5]]\n"
          ]
        }
      ],
      "source": [
        "B = np.array([[5, 6], [8, 7]])\n",
        "C = np.array([[2, 1], [4, 2]])\n",
        "\n",
        "\n",
        "addition_result = B + C\n",
        "print(\"B + C:\")\n",
        "print(addition_result)\n",
        "\n",
        "# Matrix Subtraction\n",
        "subtraction_result = B - C\n",
        "print(\"B - C:\")\n",
        "print(subtraction_result)"
      ]
    },
    {
      "cell_type": "markdown",
      "id": "61596d9e-4cf7-4371-a21c-adb67f105b4b",
      "metadata": {
        "id": "61596d9e-4cf7-4371-a21c-adb67f105b4b"
      },
      "source": [
        "# Define matrices for multiplication"
      ]
    },
    {
      "cell_type": "code",
      "execution_count": 88,
      "id": "32005d82-fc73-44a2-a171-d21f6043729e",
      "metadata": {
        "colab": {
          "base_uri": "https://localhost:8080/"
        },
        "id": "32005d82-fc73-44a2-a171-d21f6043729e",
        "outputId": "c88c339b-a9f4-4ded-fb75-7a7ad9382fe2"
      },
      "outputs": [
        {
          "output_type": "stream",
          "name": "stdout",
          "text": [
            "D * E (Matrix Multiplication):\n",
            "[[ 4  4]\n",
            " [10  8]]\n"
          ]
        }
      ],
      "source": [
        "D = np.array([[1, 2], [3, 4]])\n",
        "E = np.array([[2, 0], [1, 2]])\n",
        "\n",
        "# Matrix Multiplication\n",
        "multiplication_result = np.dot(D, E)\n",
        "print(\"D * E (Matrix Multiplication):\")\n",
        "print(multiplication_result)\n",
        "\n"
      ]
    },
    {
      "cell_type": "markdown",
      "id": "1c97f238-0ca9-4f9e-88e5-220c2137ed46",
      "metadata": {
        "id": "1c97f238-0ca9-4f9e-88e5-220c2137ed46"
      },
      "source": [
        "# Excersise 2"
      ]
    },
    {
      "cell_type": "code",
      "execution_count": 89,
      "id": "bc0fac08-a4dd-47b4-9684-d3de8aa7ad1f",
      "metadata": {
        "colab": {
          "base_uri": "https://localhost:8080/"
        },
        "id": "bc0fac08-a4dd-47b4-9684-d3de8aa7ad1f",
        "outputId": "a0a68fab-9dd8-43c9-c32b-ab68ec514052"
      },
      "outputs": [
        {
          "output_type": "stream",
          "name": "stdout",
          "text": [
            "D * E (Matrix Multiplication):\n",
            "[[28 24]\n",
            " [65 42]]\n"
          ]
        }
      ],
      "source": [
        "\n",
        "\n",
        "# Define matrices for multiplication\n",
        "D = np.array([[3, 7, 1], [2, 1,9]])\n",
        "E = np.array([[5, 2], [1, 2],[6,4]])\n",
        "\n",
        "# Matrix Multiplication\n",
        "multiplication_result = np.dot(D, E)\n",
        "print(\"D * E (Matrix Multiplication):\")\n",
        "print(multiplication_result)\n",
        "\n"
      ]
    },
    {
      "cell_type": "markdown",
      "id": "9a4b5577-db49-43c1-a29f-cd62b5d0ba94",
      "metadata": {
        "id": "9a4b5577-db49-43c1-a29f-cd62b5d0ba94"
      },
      "source": [
        "# Define matrices for multiplication"
      ]
    },
    {
      "cell_type": "code",
      "execution_count": 90,
      "id": "f1eb91b6-b615-45dc-a82f-6e1e93ebf4b3",
      "metadata": {
        "colab": {
          "base_uri": "https://localhost:8080/"
        },
        "id": "f1eb91b6-b615-45dc-a82f-6e1e93ebf4b3",
        "outputId": "62c48c5f-457b-4687-e29a-bfcfc82ef925"
      },
      "outputs": [
        {
          "output_type": "stream",
          "name": "stdout",
          "text": [
            "D * E (Element-wise Multiplication):\n",
            "[[15 14  1]\n",
            " [12  4  9]]\n"
          ]
        }
      ],
      "source": [
        "D = np.array([[3, 7, 1], [2, 1, 9]])\n",
        "E = np.array([[5, 2, 1], [6, 4, 1]])  # Define E directly in the shape (2, 3)\n",
        "\n",
        "# Element-wise Multiplication\n",
        "elementwise_result = D * E\n",
        "print(\"D * E (Element-wise Multiplication):\")\n",
        "print(elementwise_result)\n"
      ]
    },
    {
      "cell_type": "markdown",
      "id": "cc76dd46-4d91-445e-b6c2-d29139f7f4c1",
      "metadata": {
        "id": "cc76dd46-4d91-445e-b6c2-d29139f7f4c1"
      },
      "source": [
        "# Transpose of a Matrix"
      ]
    },
    {
      "cell_type": "code",
      "execution_count": 91,
      "id": "6f7c19f6-67f6-48b5-92c8-24078dfcb371",
      "metadata": {
        "colab": {
          "base_uri": "https://localhost:8080/"
        },
        "id": "6f7c19f6-67f6-48b5-92c8-24078dfcb371",
        "outputId": "0b698152-5ed1-46b9-f1e5-7b5697c974e8"
      },
      "outputs": [
        {
          "output_type": "stream",
          "name": "stdout",
          "text": [
            "Transpose of D:\n",
            "[[3 2]\n",
            " [7 1]\n",
            " [1 9]]\n"
          ]
        }
      ],
      "source": [
        "transpose_result = D.T\n",
        "print(\"Transpose of D:\")\n",
        "print(transpose_result)"
      ]
    },
    {
      "cell_type": "markdown",
      "id": "61ba4725-e8be-485b-a567-936cf4be152f",
      "metadata": {
        "id": "61ba4725-e8be-485b-a567-936cf4be152f"
      },
      "source": [
        "# Exercise 3: Matrix Transpose"
      ]
    },
    {
      "cell_type": "code",
      "execution_count": 92,
      "id": "621a99c1-e53e-42fd-88d8-091352c60386",
      "metadata": {
        "colab": {
          "base_uri": "https://localhost:8080/"
        },
        "id": "621a99c1-e53e-42fd-88d8-091352c60386",
        "outputId": "db8d083b-ee66-44f0-9cbf-c7a273b83a67"
      },
      "outputs": [
        {
          "output_type": "stream",
          "name": "stdout",
          "text": [
            "Original Matrix (2x3):\n",
            "[[1 2 3]\n",
            " [4 5 6]]\n",
            "\n",
            "Transpose of the Matrix (3x2):\n",
            "[[1 4]\n",
            " [2 5]\n",
            " [3 6]]\n"
          ]
        }
      ],
      "source": [
        "d = np.array([[1, 2, 3], [4, 5, 6]])\n",
        "\n",
        "\n",
        "transpose_matrix = d.T\n",
        "print(\"Original Matrix (2x3):\")\n",
        "print(d)\n",
        "print(\"\\nTranspose of the Matrix (3x2):\")\n",
        "print(transpose_matrix)"
      ]
    },
    {
      "cell_type": "markdown",
      "id": "c92e7fb5-e398-4897-a79e-63b3410c526e",
      "metadata": {
        "id": "c92e7fb5-e398-4897-a79e-63b3410c526e"
      },
      "source": [
        "# Define a 2x2 square matrix"
      ]
    },
    {
      "cell_type": "code",
      "execution_count": 93,
      "id": "2c16d97f-68dc-4b10-9e9b-1ee48e1a0eb1",
      "metadata": {
        "colab": {
          "base_uri": "https://localhost:8080/"
        },
        "id": "2c16d97f-68dc-4b10-9e9b-1ee48e1a0eb1",
        "outputId": "8d00974f-f4c9-4ae2-f219-029be5b6b18a"
      },
      "outputs": [
        {
          "output_type": "stream",
          "name": "stdout",
          "text": [
            "Determinant of F: -2.0\n"
          ]
        }
      ],
      "source": [
        "F = np.array([[4, 2], [3, 1]])\n",
        "\n",
        "# Determinant of F\n",
        "determinant_result = np.linalg.det(F)\n",
        "print(\"Determinant of F:\", determinant_result)"
      ]
    },
    {
      "cell_type": "markdown",
      "id": "2885870c-52f0-428c-8849-2321d8be4c76",
      "metadata": {
        "id": "2885870c-52f0-428c-8849-2321d8be4c76"
      },
      "source": [
        "# Exercise 4: Calculating the Determinant"
      ]
    },
    {
      "cell_type": "code",
      "execution_count": 94,
      "id": "f51471aa-e623-4fcc-9bef-1fa65cefdc7e",
      "metadata": {
        "colab": {
          "base_uri": "https://localhost:8080/"
        },
        "id": "f51471aa-e623-4fcc-9bef-1fa65cefdc7e",
        "outputId": "5d88ce19-060b-48c7-b3d8-2c7d7f35a86b"
      },
      "outputs": [
        {
          "output_type": "stream",
          "name": "stdout",
          "text": [
            "Determinant of F: 22.99999999999998\n"
          ]
        }
      ],
      "source": [
        "F = np.array([[9, 8, 3], [2, 1, 6],[8,6,7]])\n",
        "\n",
        "determinant_result = np.linalg.det(F)\n",
        "print(\"Determinant of F:\", determinant_result)\n"
      ]
    },
    {
      "cell_type": "markdown",
      "id": "a2cb08a5-e126-4a5b-b5f2-827113d40cf5",
      "metadata": {
        "id": "a2cb08a5-e126-4a5b-b5f2-827113d40cf5"
      },
      "source": [
        "# Matrix Inverse"
      ]
    },
    {
      "cell_type": "code",
      "execution_count": 95,
      "id": "cc9c6bc8-1a73-40dd-afc5-010dbcf78767",
      "metadata": {
        "colab": {
          "base_uri": "https://localhost:8080/"
        },
        "id": "cc9c6bc8-1a73-40dd-afc5-010dbcf78767",
        "outputId": "6bb7848b-5e48-478a-e5e0-96b094c036c0"
      },
      "outputs": [
        {
          "output_type": "stream",
          "name": "stdout",
          "text": [
            "Inverse of G:\n",
            "[[ 0.6 -0.7]\n",
            " [-0.2  0.4]]\n"
          ]
        }
      ],
      "source": [
        "# Define an invertible 2x2 matrix\n",
        "G = np.array([[4, 7], [2, 6]])\n",
        "\n",
        "# Inverse of G\n",
        "inverse_result = np.linalg.inv(G)\n",
        "print(\"Inverse of G:\")\n",
        "print(inverse_result)"
      ]
    },
    {
      "cell_type": "markdown",
      "id": "392f6afc-0cb6-49b4-a2ea-e0dad448531b",
      "metadata": {
        "id": "392f6afc-0cb6-49b4-a2ea-e0dad448531b"
      },
      "source": [
        "# Exercise 5: Finding the Inverse"
      ]
    },
    {
      "cell_type": "code",
      "execution_count": 96,
      "id": "9c05fee2-f0e5-4298-81a9-8463ff4d4b94",
      "metadata": {
        "colab": {
          "base_uri": "https://localhost:8080/"
        },
        "id": "9c05fee2-f0e5-4298-81a9-8463ff4d4b94",
        "outputId": "d0728615-90b5-47ec-fcd0-d55da93cac5b"
      },
      "outputs": [
        {
          "output_type": "stream",
          "name": "stdout",
          "text": [
            "Inverse of the matrix:\n",
            "[[ 1.81481481 -1.96296296 -0.18518519]\n",
            " [-0.92592593  1.18518519  0.07407407]\n",
            " [ 0.11111111 -0.22222222  0.11111111]]\n"
          ]
        }
      ],
      "source": [
        "matrix = np.array([[4, 7, 2],\n",
        "                   [3, 6, 1],\n",
        "                   [2, 5, 9]])\n",
        "\n",
        "# Calculate the inverse of the matrix\n",
        "inverse_result = np.linalg.inv(matrix)\n",
        "\n",
        "# Print the inverse\n",
        "print(\"Inverse of the matrix:\")\n",
        "print(inverse_result)"
      ]
    },
    {
      "cell_type": "markdown",
      "id": "96a79886-b502-4fbc-82d0-6ba8043a9ea7",
      "metadata": {
        "id": "96a79886-b502-4fbc-82d0-6ba8043a9ea7"
      },
      "source": [
        "# Additional Challenge"
      ]
    },
    {
      "cell_type": "code",
      "execution_count": 97,
      "id": "9a4649fc-32bb-4522-9185-990ccf837b6b",
      "metadata": {
        "colab": {
          "base_uri": "https://localhost:8080/"
        },
        "id": "9a4649fc-32bb-4522-9185-990ccf837b6b",
        "outputId": "d254cb0d-13d3-4752-aeae-afa289460727"
      },
      "outputs": [
        {
          "output_type": "stream",
          "name": "stdout",
          "text": [
            "Result of matrix multiplication:\n",
            "[30, 24, 18]\n",
            "[84, 69, 54]\n",
            "[138, 114, 90]\n"
          ]
        }
      ],
      "source": [
        "\n",
        "A = [\n",
        "    [1, 2, 3],\n",
        "    [4, 5, 6],\n",
        "    [7, 8, 9]\n",
        "]\n",
        "\n",
        "B = [\n",
        "    [9, 8, 7],\n",
        "    [6, 5, 4],\n",
        "    [3, 2, 1]\n",
        "]\n",
        "\n",
        "\n",
        "result = [[0 for _ in range(len(B[0]))] for _ in range(len(A))]\n",
        "\n",
        "\n",
        "for i in range(len(A)):\n",
        "    for j in range(len(B[0])):\n",
        "        for k in range(len(B)):\n",
        "            result[i][j] += A[i][k] * B[k][j]\n",
        "\n",
        "\n",
        "print(\"Result of matrix multiplication:\")\n",
        "for row in result:\n",
        "    print(row)\n"
      ]
    },
    {
      "cell_type": "markdown",
      "id": "18b4a497-ae1f-4e0d-9cc2-8a1155b9a34c",
      "metadata": {
        "id": "18b4a497-ae1f-4e0d-9cc2-8a1155b9a34c"
      },
      "source": [
        "## Generating a Random 10×1010 \\times 1010×10 Matrix and Performing Basic Operations\n"
      ]
    },
    {
      "cell_type": "code",
      "execution_count": 98,
      "id": "b391fea7-4af6-4480-bb1d-865cfce0c469",
      "metadata": {
        "colab": {
          "base_uri": "https://localhost:8080/"
        },
        "id": "b391fea7-4af6-4480-bb1d-865cfce0c469",
        "outputId": "61c5d40c-4a11-4981-bb53-4529ace8c435"
      },
      "outputs": [
        {
          "output_type": "stream",
          "name": "stdout",
          "text": [
            "Random 10x10 Matrix A:\n",
            "[[0.00249031 0.64489764 0.25712193 0.7206846  0.39196723 0.4963367\n",
            "  0.67589538 0.97276775 0.3109115  0.41586694]\n",
            " [0.65441373 0.61640438 0.47119245 0.77844786 0.5584328  0.02057692\n",
            "  0.14175117 0.75588671 0.41505732 0.08806774]\n",
            " [0.86380123 0.64580624 0.98772294 0.56248539 0.97925358 0.16031105\n",
            "  0.90113971 0.65602516 0.84406423 0.69182421]\n",
            " [0.83603065 0.30722168 0.78262745 0.07107799 0.49289838 0.55419564\n",
            "  0.02977121 0.20869223 0.85164288 0.464792  ]\n",
            " [0.56588703 0.85899731 0.69209141 0.64725844 0.66588638 0.96151087\n",
            "  0.22764456 0.50727352 0.28302064 0.5964041 ]\n",
            " [0.66433738 0.54847167 0.65094822 0.68171949 0.81826086 0.21856747\n",
            "  0.0946858  0.08284787 0.53917261 0.95818769]\n",
            " [0.09898504 0.15953108 0.70599756 0.67825929 0.79160049 0.03699748\n",
            "  0.65560987 0.66273053 0.64728534 0.05050018]\n",
            " [0.73675726 0.67030584 0.33454168 0.19169086 0.24199542 0.60885269\n",
            "  0.26603163 0.05275723 0.77561443 0.85629481]\n",
            " [0.35355037 0.64581199 0.66888508 0.26279624 0.71895773 0.92819469\n",
            "  0.65517726 0.18060731 0.87388863 0.02791298]\n",
            " [0.31609138 0.00630056 0.08224785 0.93179729 0.61625673 0.05854078\n",
            "  0.95432589 0.90651198 0.63033048 0.52192752]]\n"
          ]
        }
      ],
      "source": [
        "# Generate a random 10x10 matrix\n",
        "random_matrix_A = np.random.rand(10, 10)\n",
        "print(\"Random 10x10 Matrix A:\")\n",
        "print(random_matrix_A)"
      ]
    },
    {
      "cell_type": "markdown",
      "id": "974a0db8-15a4-474c-a4f2-d755c517c686",
      "metadata": {
        "id": "974a0db8-15a4-474c-a4f2-d755c517c686"
      },
      "source": [
        "# Creating Another Random Matrix of the Same Size"
      ]
    },
    {
      "cell_type": "markdown",
      "id": "bf1b8a1e-ecaa-4f08-a79b-947ed933eef9",
      "metadata": {
        "id": "bf1b8a1e-ecaa-4f08-a79b-947ed933eef9"
      },
      "source": [
        "# Generate a second random 10x10 matrix"
      ]
    },
    {
      "cell_type": "code",
      "execution_count": 99,
      "id": "6658f2b8-3546-45af-95a9-e1578e1e9abd",
      "metadata": {
        "colab": {
          "base_uri": "https://localhost:8080/"
        },
        "id": "6658f2b8-3546-45af-95a9-e1578e1e9abd",
        "outputId": "73c19916-cf76-4e43-c609-531572e7784e"
      },
      "outputs": [
        {
          "output_type": "stream",
          "name": "stdout",
          "text": [
            "\n",
            "Random 10x10 Matrix B:\n",
            "[[0.58802582 0.11616256 0.79151882 0.70021819 0.62547617 0.9333832\n",
            "  0.60871817 0.8058849  0.43655332 0.3429707 ]\n",
            " [0.37554653 0.599917   0.99243062 0.42446464 0.47194544 0.96456333\n",
            "  0.7908959  0.80128576 0.64987344 0.79311671]\n",
            " [0.60240805 0.01530347 0.24896758 0.50774534 0.22490243 0.09099424\n",
            "  0.15539372 0.54305713 0.61674309 0.47773029]\n",
            " [0.03022359 0.0151484  0.81562188 0.01422157 0.40309291 0.03459855\n",
            "  0.15624217 0.14370212 0.63873917 0.5233398 ]\n",
            " [0.57724832 0.58606948 0.37315926 0.41571464 0.02810987 0.82701014\n",
            "  0.36563044 0.39481399 0.93915921 0.27867864]\n",
            " [0.24812487 0.11474821 0.61103831 0.34662122 0.38710612 0.08833671\n",
            "  0.88483817 0.21824935 0.04858774 0.94862129]\n",
            " [0.08614964 0.80255009 0.50337013 0.37555499 0.74994042 0.78997082\n",
            "  0.84143715 0.21980603 0.31660025 0.99814462]\n",
            " [0.47402419 0.76903637 0.16163843 0.13149227 0.79705578 0.48195808\n",
            "  0.36730409 0.14747195 0.45016711 0.41083808]\n",
            " [0.09527249 0.45674159 0.23667071 0.29003941 0.62228913 0.88293318\n",
            "  0.48775009 0.18504169 0.43744193 0.67113428]\n",
            " [0.20912031 0.62133907 0.61948768 0.68303374 0.95706145 0.3727579\n",
            "  0.01397037 0.89713414 0.88970934 0.4641114 ]]\n"
          ]
        }
      ],
      "source": [
        "random_matrix_B = np.random.rand(10, 10)\n",
        "print(\"\\nRandom 10x10 Matrix B:\")\n",
        "print(random_matrix_B)\n"
      ]
    },
    {
      "cell_type": "markdown",
      "id": "5bb738df-0c1d-44e7-8eaf-1f3dff431565",
      "metadata": {
        "id": "5bb738df-0c1d-44e7-8eaf-1f3dff431565"
      },
      "source": [
        "# Matrix Addition"
      ]
    },
    {
      "cell_type": "code",
      "execution_count": 100,
      "id": "d10cac16-9962-4180-9d0a-b8228db8688c",
      "metadata": {
        "colab": {
          "base_uri": "https://localhost:8080/"
        },
        "id": "d10cac16-9962-4180-9d0a-b8228db8688c",
        "outputId": "4782582b-ed87-4f94-8ddf-2cae94a6a396"
      },
      "outputs": [
        {
          "output_type": "stream",
          "name": "stdout",
          "text": [
            "\n",
            "A + B (Matrix Addition):\n",
            "[[0.59051613 0.7610602  1.04864075 1.42090279 1.0174434  1.4297199\n",
            "  1.28461356 1.77865265 0.74746482 0.75883764]\n",
            " [1.02996026 1.21632138 1.46362307 1.2029125  1.03037824 0.98514025\n",
            "  0.93264707 1.55717247 1.06493076 0.88118444]\n",
            " [1.46620928 0.66110971 1.23669052 1.07023074 1.204156   0.25130529\n",
            "  1.05653343 1.19908228 1.46080731 1.16955449]\n",
            " [0.86625424 0.32237008 1.59824932 0.08529956 0.89599128 0.5887942\n",
            "  0.18601338 0.35239435 1.49038205 0.98813179]\n",
            " [1.14313535 1.44506679 1.06525068 1.06297307 0.69399626 1.788521\n",
            "  0.593275   0.90208751 1.22217985 0.87508274]\n",
            " [0.91246226 0.66321988 1.26198654 1.02834071 1.20536698 0.30690418\n",
            "  0.97952397 0.30109722 0.58776035 1.90680898]\n",
            " [0.18513468 0.96208118 1.20936769 1.05381428 1.54154091 0.8269683\n",
            "  1.49704702 0.88253656 0.96388559 1.04864479]\n",
            " [1.21078145 1.43934222 0.49618012 0.32318313 1.0390512  1.09081077\n",
            "  0.63333573 0.20022918 1.22578155 1.26713289]\n",
            " [0.44882286 1.10255358 0.90555579 0.55283565 1.34124686 1.81112787\n",
            "  1.14292735 0.365649   1.31133056 0.69904726]\n",
            " [0.52521169 0.62763963 0.70173553 1.61483102 1.57331818 0.43129868\n",
            "  0.96829625 1.80364612 1.52003982 0.98603892]]\n"
          ]
        }
      ],
      "source": [
        "\n",
        "addition_result = random_matrix_A + random_matrix_B\n",
        "print(\"\\nA + B (Matrix Addition):\")\n",
        "print(addition_result)\n"
      ]
    },
    {
      "cell_type": "markdown",
      "id": "c8f03f62-cb6a-49f6-8b39-c9eaf0174ecd",
      "metadata": {
        "id": "c8f03f62-cb6a-49f6-8b39-c9eaf0174ecd"
      },
      "source": [
        "#  Matrix Subtraction"
      ]
    },
    {
      "cell_type": "code",
      "execution_count": 101,
      "id": "6fbd44f2-8985-4b9e-b2db-991d5b1590ea",
      "metadata": {
        "colab": {
          "base_uri": "https://localhost:8080/"
        },
        "id": "6fbd44f2-8985-4b9e-b2db-991d5b1590ea",
        "outputId": "89586674-4550-4fc1-e9a7-7a3ef697e24a"
      },
      "outputs": [
        {
          "output_type": "stream",
          "name": "stdout",
          "text": [
            "\n",
            "A - B (Matrix Subtraction):\n",
            "[[-0.58553551  0.52873508 -0.53439689  0.0204664  -0.23350894 -0.43704651\n",
            "   0.06717721  0.16688285 -0.12564181  0.07289624]\n",
            " [ 0.2788672   0.01648737 -0.52123817  0.35398322  0.08648736 -0.94398641\n",
            "  -0.64914473 -0.04539905 -0.23481613 -0.70504897]\n",
            " [ 0.26139318  0.63050277  0.73875535  0.05474005  0.75435115  0.06931681\n",
            "   0.74574599  0.11296803  0.22732114  0.21409392]\n",
            " [ 0.80580706  0.29207328 -0.03299443  0.05685641  0.08980547  0.51959709\n",
            "  -0.12647096  0.06499011  0.2129037  -0.0585478 ]\n",
            " [-0.01136129  0.27292782  0.31893215  0.2315438   0.63777651  0.13450073\n",
            "  -0.13798587  0.11245953 -0.65613857  0.31772546]\n",
            " [ 0.41621251  0.43372347  0.03990991  0.33509827  0.43115474  0.13023076\n",
            "  -0.79015236 -0.13540148  0.49058488  0.0095664 ]\n",
            " [ 0.01283539 -0.64301901  0.20262743  0.30270429  0.04166007 -0.75297334\n",
            "  -0.18582728  0.44292451  0.33068509 -0.94764444]\n",
            " [ 0.26273306 -0.09873053  0.17290325  0.06019858 -0.55506036  0.12689461\n",
            "  -0.10127246 -0.09471472  0.32544732  0.44545674]\n",
            " [ 0.25827788  0.1890704   0.43221437 -0.02724317  0.09666859  0.04526152\n",
            "   0.16742717 -0.00443438  0.4364467  -0.6432213 ]\n",
            " [ 0.10697107 -0.61503851 -0.53723983  0.24876355 -0.34080473 -0.31421713\n",
            "   0.94035552  0.00937784 -0.25937886  0.05781612]]\n"
          ]
        }
      ],
      "source": [
        "\n",
        "subtraction_result = random_matrix_A - random_matrix_B\n",
        "print(\"\\nA - B (Matrix Subtraction):\")\n",
        "print(subtraction_result)\n"
      ]
    },
    {
      "cell_type": "markdown",
      "id": "2cb5ccff-cef7-457e-8d21-3a6241bf8407",
      "metadata": {
        "id": "2cb5ccff-cef7-457e-8d21-3a6241bf8407"
      },
      "source": [
        "# Matrix Multiplication"
      ]
    },
    {
      "cell_type": "code",
      "execution_count": 102,
      "id": "8a6dfbdc-bc4d-430d-b435-a3a791d3b5c4",
      "metadata": {
        "colab": {
          "base_uri": "https://localhost:8080/"
        },
        "id": "8a6dfbdc-bc4d-430d-b435-a3a791d3b5c4",
        "outputId": "a1690cab-e71b-4d19-d52d-79312cc9e90f"
      },
      "outputs": [
        {
          "output_type": "stream",
          "name": "stdout",
          "text": [
            "\n",
            "A * B (Matrix Multiplication):\n",
            "[[1.40567447 2.37963448 2.57202568 1.50724415 2.73111594 2.47300859\n",
            "  2.33009404 1.74767116 2.5892353  3.06836284]\n",
            " [1.67961905 1.7338152  2.4492302  1.54263671 2.19501219 2.6144169\n",
            "  1.90368879 1.91245653 2.64463019 2.29243164]\n",
            " [2.58122519 3.14680751 3.68068048 2.99318057 3.76959165 4.39371678\n",
            "  3.19841174 3.32409826 4.25807808 4.05621772]\n",
            " [1.78245296 1.50910121 2.28022665 2.11429669 2.2644314  2.65623122\n",
            "  2.07878661 2.28258866 2.47199072 2.50729816]\n",
            " [2.12654583 2.17469007 3.46966564 2.37321525 2.88879295 2.97426857\n",
            "  2.85101629 2.79822144 3.27250385 3.54478718]\n",
            " [1.83511023 1.91246042 3.00938592 2.31143156 2.5927909  2.87590727\n",
            "  1.92489299 2.78951421 3.41809973 2.70107875]\n",
            " [1.47290516 1.95930432 1.90526047 1.40263642 2.07699051 2.41956221\n",
            "  1.8357739  1.41599583 2.59475963 2.49293246]\n",
            " [1.48394055 1.84780657 2.806831   2.20132607 2.71591494 2.86480997\n",
            "  2.32126815 2.54648247 2.55198454 2.89463699]\n",
            " [1.73778917 2.05177884 2.72019202 2.02799185 2.36763403 3.08606671\n",
            "  2.99941541 2.04723443 2.57058552 3.49901686]\n",
            " [1.3173259  2.49898555 2.40206377 1.57241426 2.96475686 2.79753914\n",
            "  2.0835879  1.6227597  2.81991254 2.85787046]]\n"
          ]
        }
      ],
      "source": [
        "multiplication_result = np.dot(random_matrix_A, random_matrix_B)\n",
        "print(\"\\nA * B (Matrix Multiplication):\")\n",
        "print(multiplication_result)"
      ]
    },
    {
      "cell_type": "code",
      "execution_count": 103,
      "id": "e5988159-6824-4d9d-842b-255fa70b5100",
      "metadata": {
        "colab": {
          "base_uri": "https://localhost:8080/"
        },
        "id": "e5988159-6824-4d9d-842b-255fa70b5100",
        "outputId": "49e7ba2d-8eb0-4516-ce8f-f2ac57c9ec65"
      },
      "outputs": [
        {
          "output_type": "stream",
          "name": "stdout",
          "text": [
            "\n",
            "Transpose of Matrix A:\n",
            "[[0.00249031 0.65441373 0.86380123 0.83603065 0.56588703 0.66433738\n",
            "  0.09898504 0.73675726 0.35355037 0.31609138]\n",
            " [0.64489764 0.61640438 0.64580624 0.30722168 0.85899731 0.54847167\n",
            "  0.15953108 0.67030584 0.64581199 0.00630056]\n",
            " [0.25712193 0.47119245 0.98772294 0.78262745 0.69209141 0.65094822\n",
            "  0.70599756 0.33454168 0.66888508 0.08224785]\n",
            " [0.7206846  0.77844786 0.56248539 0.07107799 0.64725844 0.68171949\n",
            "  0.67825929 0.19169086 0.26279624 0.93179729]\n",
            " [0.39196723 0.5584328  0.97925358 0.49289838 0.66588638 0.81826086\n",
            "  0.79160049 0.24199542 0.71895773 0.61625673]\n",
            " [0.4963367  0.02057692 0.16031105 0.55419564 0.96151087 0.21856747\n",
            "  0.03699748 0.60885269 0.92819469 0.05854078]\n",
            " [0.67589538 0.14175117 0.90113971 0.02977121 0.22764456 0.0946858\n",
            "  0.65560987 0.26603163 0.65517726 0.95432589]\n",
            " [0.97276775 0.75588671 0.65602516 0.20869223 0.50727352 0.08284787\n",
            "  0.66273053 0.05275723 0.18060731 0.90651198]\n",
            " [0.3109115  0.41505732 0.84406423 0.85164288 0.28302064 0.53917261\n",
            "  0.64728534 0.77561443 0.87388863 0.63033048]\n",
            " [0.41586694 0.08806774 0.69182421 0.464792   0.5964041  0.95818769\n",
            "  0.05050018 0.85629481 0.02791298 0.52192752]]\n",
            "\n",
            "Transpose of Matrix B:\n",
            "[[0.58802582 0.37554653 0.60240805 0.03022359 0.57724832 0.24812487\n",
            "  0.08614964 0.47402419 0.09527249 0.20912031]\n",
            " [0.11616256 0.599917   0.01530347 0.0151484  0.58606948 0.11474821\n",
            "  0.80255009 0.76903637 0.45674159 0.62133907]\n",
            " [0.79151882 0.99243062 0.24896758 0.81562188 0.37315926 0.61103831\n",
            "  0.50337013 0.16163843 0.23667071 0.61948768]\n",
            " [0.70021819 0.42446464 0.50774534 0.01422157 0.41571464 0.34662122\n",
            "  0.37555499 0.13149227 0.29003941 0.68303374]\n",
            " [0.62547617 0.47194544 0.22490243 0.40309291 0.02810987 0.38710612\n",
            "  0.74994042 0.79705578 0.62228913 0.95706145]\n",
            " [0.9333832  0.96456333 0.09099424 0.03459855 0.82701014 0.08833671\n",
            "  0.78997082 0.48195808 0.88293318 0.3727579 ]\n",
            " [0.60871817 0.7908959  0.15539372 0.15624217 0.36563044 0.88483817\n",
            "  0.84143715 0.36730409 0.48775009 0.01397037]\n",
            " [0.8058849  0.80128576 0.54305713 0.14370212 0.39481399 0.21824935\n",
            "  0.21980603 0.14747195 0.18504169 0.89713414]\n",
            " [0.43655332 0.64987344 0.61674309 0.63873917 0.93915921 0.04858774\n",
            "  0.31660025 0.45016711 0.43744193 0.88970934]\n",
            " [0.3429707  0.79311671 0.47773029 0.5233398  0.27867864 0.94862129\n",
            "  0.99814462 0.41083808 0.67113428 0.4641114 ]]\n"
          ]
        }
      ],
      "source": [
        "# Transpose of random_matrix_A\n",
        "transpose_result_A = random_matrix_A.T\n",
        "print(\"\\nTranspose of Matrix A:\")\n",
        "print(transpose_result_A)\n",
        "\n",
        "# Transpose of random_matrix_B\n",
        "transpose_result_B = random_matrix_B.T\n",
        "print(\"\\nTranspose of Matrix B:\")\n",
        "print(transpose_result_B)"
      ]
    },
    {
      "cell_type": "markdown",
      "id": "5cbb5c5e-6ca5-44d9-ab38-9cc6630d9340",
      "metadata": {
        "id": "5cbb5c5e-6ca5-44d9-ab38-9cc6630d9340"
      },
      "source": [
        "# Learning Assessment Questions"
      ]
    },
    {
      "cell_type": "markdown",
      "id": "8f11487d-ff07-47b5-b6a3-10249482063e",
      "metadata": {
        "id": "8f11487d-ff07-47b5-b6a3-10249482063e"
      },
      "source": [
        "# 1. Matrix Creation and Structure\n",
        "\n",
        "\n",
        "A matrix is a grid of numbers, symbols, or expressions organized into rows and columns. It's a fundamental tool in linear algebra, used in various fields like physics, computer graphics, and machine learning. The size of a matrix is determined by the number of rows and columns it contains.\n",
        "\n",
        "Sample Code Below:"
      ]
    },
    {
      "cell_type": "code",
      "execution_count": 104,
      "id": "261c29af-115b-4055-8ccf-a45ea5a9f5d5",
      "metadata": {
        "colab": {
          "base_uri": "https://localhost:8080/"
        },
        "id": "261c29af-115b-4055-8ccf-a45ea5a9f5d5",
        "outputId": "36d721bb-1c30-45ab-9921-3e006207765a"
      },
      "outputs": [
        {
          "output_type": "stream",
          "name": "stdout",
          "text": [
            "3x23 Matrix:\n",
            " [[6 9 4 8 3 4 4 5 4 1 9 9 2 6 7 3 5 5 8 4 9 8 1]\n",
            " [1 1 6 5 8 1 9 2 3 7 6 3 8 6 3 3 5 3 5 9 2 9 1]\n",
            " [3 2 5 4 1 3 3 5 7 9 3 9 5 9 1 2 9 8 1 9 2 9 8]]\n",
            "\n",
            "23x2 Matrix:\n",
            " [[4 7]\n",
            " [2 3]\n",
            " [6 6]\n",
            " [9 6]\n",
            " [9 6]\n",
            " [7 4]\n",
            " [3 1]\n",
            " [9 6]\n",
            " [6 4]\n",
            " [8 4]\n",
            " [4 9]\n",
            " [6 1]\n",
            " [7 1]\n",
            " [1 5]\n",
            " [7 6]\n",
            " [9 8]\n",
            " [9 3]\n",
            " [1 7]\n",
            " [1 4]\n",
            " [8 1]\n",
            " [7 5]\n",
            " [2 1]\n",
            " [3 1]]\n"
          ]
        }
      ],
      "source": [
        "\n",
        "k_3x23 = np.random.randint(1, 10,(3, 23))\n",
        "\n",
        "\n",
        "k_23x2 = np.random.randint(1, 10,(23, 2))\n",
        "\n",
        "print(\"3x23 Matrix:\\n\", k_3x23)\n",
        "print(\"\\n23x2 Matrix:\\n\", k_23x2)\n"
      ]
    },
    {
      "cell_type": "markdown",
      "id": "30d80765-be13-46e8-81fb-608f0ef052bc",
      "metadata": {
        "id": "30d80765-be13-46e8-81fb-608f0ef052bc"
      },
      "source": [
        "# 2. Basic Matrix Operations\n",
        "To add matrices, they must have the same shape meaning the same number of rows and columns. You add corresponding elements to get the resulting matrix.\n",
        "\n",
        "To multiply matrices, the number of columns in the first matrix must equal the number of rows in the second. The result will have the same number of rows as the first and the same number of columns as the second. Each element in the result is calculated by multiplying corresponding elements in a row of the first matrix with corresponding elements in a column of the second matrix, and then summing these products.lt is a dot product of a row from the first matrix and a column from the second.\n",
        "\n",
        "Sample Code:"
      ]
    },
    {
      "cell_type": "code",
      "execution_count": 105,
      "id": "2629cc83-4eec-48fe-a8df-f83428ba1956",
      "metadata": {
        "colab": {
          "base_uri": "https://localhost:8080/"
        },
        "id": "2629cc83-4eec-48fe-a8df-f83428ba1956",
        "outputId": "4054b1b1-b560-4fa1-eba6-8fb05a083c66"
      },
      "outputs": [
        {
          "output_type": "stream",
          "name": "stdout",
          "text": [
            "Matrix A:\n",
            " [[2 4 8 2 4]\n",
            " [5 7 7 2 8]\n",
            " [8 6 5 3 6]\n",
            " [5 5 7 9 8]\n",
            " [3 7 9 9 7]]\n",
            "\n",
            "Matrix B:\n",
            " [[7 1 3 8 6]\n",
            " [4 6 8 1 6]\n",
            " [7 8 6 4 6]\n",
            " [4 1 8 8 8]\n",
            " [7 1 7 8 8]]\n",
            "\n",
            "Matrix Addition (A + B):\n",
            " [[ 9  5 11 10 10]\n",
            " [ 9 13 15  3 14]\n",
            " [15 14 11  7 12]\n",
            " [ 9  6 15 17 16]\n",
            " [10  8 16 17 15]]\n",
            "\n",
            "Matrix Multiplication (A * B):\n",
            " [[122  96 130 100 132]\n",
            " [176 113 185 155 194]\n",
            " [169  93 168 162 186]\n",
            " [196 108 225 209 238]\n",
            " [197 133 240 195 242]]\n"
          ]
        }
      ],
      "source": [
        "\n",
        "\n",
        "A = np.random.randint(1, 10,(5, 5))\n",
        "B = np.random.randint(1, 10,(5, 5))\n",
        "\n",
        "\n",
        "matrix_sum = A + B\n",
        "\n",
        "\n",
        "matrix_product = np.dot(A, B)\n",
        "\n",
        "print(\"Matrix A:\\n\", A)\n",
        "print(\"\\nMatrix B:\\n\", B)\n",
        "print(\"\\nMatrix Addition (A + B):\\n\", matrix_sum)\n",
        "print(\"\\nMatrix Multiplication (A * B):\\n\", matrix_product)\n"
      ]
    },
    {
      "cell_type": "markdown",
      "id": "050daea1-4af0-417c-ba4b-a4f9de4bd9f2",
      "metadata": {
        "id": "050daea1-4af0-417c-ba4b-a4f9de4bd9f2"
      },
      "source": [
        "# 3. Matrix Transposition\n",
        "The transpose of a matrix is created by interchanging its rows and columns. If a matrix is 𝑚 × 𝑛, its transpose will be 𝑛 × 𝑚.\n",
        "\n",
        "Sample Code:\n"
      ]
    },
    {
      "cell_type": "code",
      "execution_count": 106,
      "id": "9d618996-e556-485b-94b8-b305f5e4861d",
      "metadata": {
        "colab": {
          "base_uri": "https://localhost:8080/"
        },
        "id": "9d618996-e556-485b-94b8-b305f5e4861d",
        "outputId": "bb8fd82b-47db-476d-8c47-906fa98a65e2"
      },
      "outputs": [
        {
          "output_type": "stream",
          "name": "stdout",
          "text": [
            "Original 3x2 Matrix:\n",
            " [[4 7 2]\n",
            " [3 6 1]\n",
            " [2 5 9]]\n",
            "\n",
            "Transpose of the Matrix (2x3):\n",
            " [[6 3 5]\n",
            " [8 7 5]]\n"
          ]
        }
      ],
      "source": [
        "\n",
        "k = np.random.randint(1, 10, (3, 2))\n",
        "\n",
        "\n",
        "matrix_transpose = k.T\n",
        "\n",
        "print(\"Original 3x2 Matrix:\\n\", matrix)\n",
        "print(\"\\nTranspose of the Matrix (2x3):\\n\", matrix_transpose)"
      ]
    },
    {
      "cell_type": "markdown",
      "id": "bc62afa9-dc38-451c-ab99-bad587ead159",
      "metadata": {
        "id": "bc62afa9-dc38-451c-ab99-bad587ead159"
      },
      "source": [
        "# 4. Working with Large Matrices"
      ]
    },
    {
      "cell_type": "code",
      "execution_count": 107,
      "id": "b1995c9e-def5-445d-9ed3-c9f17cf6c990",
      "metadata": {
        "colab": {
          "base_uri": "https://localhost:8080/"
        },
        "id": "b1995c9e-def5-445d-9ed3-c9f17cf6c990",
        "outputId": "05dbf545-8dc9-4e55-af96-c8ddb72f8dcd"
      },
      "outputs": [
        {
          "output_type": "stream",
          "name": "stdout",
          "text": [
            "Original 5x5 Matrix:\n",
            " [[ 2  3  5  1  8]\n",
            " [ 6  2  3  3  4]\n",
            " [ 1  3  5  4  6]\n",
            " [ 7  2  9 10  3]\n",
            " [ 7  8  9  6  3]]\n",
            "\n",
            "Sum of all elements in the matrix: 120\n",
            "\n",
            "Transpose of the Matrix:\n",
            " [[ 2  6  1  7  7]\n",
            " [ 3  2  3  2  8]\n",
            " [ 5  3  5  9  9]\n",
            " [ 1  3  4 10  6]\n",
            " [ 8  4  6  3  3]]\n"
          ]
        }
      ],
      "source": [
        "matrix = np.random.randint(1, 11, (5, 5))\n",
        "\n",
        "matrix_sum = np.sum(matrix)\n",
        "\n",
        "\n",
        "matrix_transpose = matrix.T\n",
        "\n",
        "# Print the results\n",
        "print(\"Original 5x5 Matrix:\\n\", matrix)\n",
        "print(\"\\nSum of all elements in the matrix:\", matrix_sum)\n",
        "print(\"\\nTranspose of the Matrix:\\n\", matrix_transpose)"
      ]
    },
    {
      "cell_type": "markdown",
      "id": "318296c0-160f-42eb-bb1e-beda8be6d5cc",
      "metadata": {
        "id": "318296c0-160f-42eb-bb1e-beda8be6d5cc"
      },
      "source": [
        "# Answer:\n",
        "To generate a 5x5 matrix with random integers between 1 and 10 in NumPy, we can use np.random.randint(1, 11, (5, 5)). To calculate the sum of all elements, we use np.sum(matrix). To find the transpose, we use matrix.T, which switches rows and columns. This gives us both the total sum and the transposed matrix.\n",
        "\n",
        "\n",
        "\n",
        "\n"
      ]
    },
    {
      "cell_type": "markdown",
      "id": "0f540105-4247-4e85-a64f-ac0b46ef318f",
      "metadata": {
        "id": "0f540105-4247-4e85-a64f-ac0b46ef318f"
      },
      "source": [
        "# Applying Matrix Operations in Context\n",
        "\n",
        "Matrix Addition  (D+E), we add corresponding elements. This is useful for combining information, like merging images or increasing brightness.\n",
        "\n",
        "Matrix Subtraction  (D-E), we find the difference between corresponding elements. This helps identify changes, such as movement in images or video frames.\n",
        "\n",
        "Matrix Multiplication  (D*E), we combine them in a specific way. This is crucial for tasks like rotating objects in graphics and complex calculations in machine learning."
      ]
    },
    {
      "cell_type": "code",
      "execution_count": 108,
      "id": "6a70bba2-3446-4406-b401-a66002ab1f9f",
      "metadata": {
        "colab": {
          "base_uri": "https://localhost:8080/"
        },
        "id": "6a70bba2-3446-4406-b401-a66002ab1f9f",
        "outputId": "b689719c-bfbd-41de-ecef-a63103d6ddc3"
      },
      "outputs": [
        {
          "output_type": "stream",
          "name": "stdout",
          "text": [
            "Matrix Addition (D + E):\n",
            " [[12 10 11 13 18 10  9 20  4 12]\n",
            " [ 6 13  7  5  7 12  7  4  6 10]\n",
            " [15 20 12 17 13 15 13  9 14 14]\n",
            " [13  4  9 11 12  5  7 13 12  4]\n",
            " [13  3 10 15  9 13 17  7  8 17]\n",
            " [13 16  7  9  9 14 10  9  7  5]\n",
            " [ 2 12  9  9 14  8 15 11  9 15]\n",
            " [ 7  6 15  8 12 19  9  5  4  8]\n",
            " [19  9  4 14 10 10  9 16 14 10]\n",
            " [11  6 11  8  8 11 18 13  8 17]]\n",
            "\n",
            "Matrix Subtraction (D - E):\n",
            " [[ 6  8  7  5  0  8  5  0  2  8]\n",
            " [ 2 -5  1  1 -5 -2  3  0  0  8]\n",
            " [-1  0  2 -1  5 -3 -7 -1  4  2]\n",
            " [-5  0  7  1 -8  3 -5  3  8  0]\n",
            " [ 1  1  2  3 -5  5  1  3 -2  3]\n",
            " [-7  0  1  7  1 -4 -6  3 -1  1]\n",
            " [ 0 -8  3 -7  6 -4 -5  5 -1 -1]\n",
            " [ 1  2 -5  0  4 -1  5 -3 -2  4]\n",
            " [ 1 -1 -2 -6 -2 -2 -3  2  0 -2]\n",
            " [-1  4  3 -6 -4 -9  2  5 -4 -3]]\n",
            "\n",
            "Matrix Multiplication (D * E):\n",
            " [[466 394 332 439 506 539 512 365 326 374]\n",
            " [227 205 142 227 233 278 266 180 173 211]\n",
            " [427 331 249 397 448 430 428 321 295 323]\n",
            " [313 226 201 292 278 306 278 243 199 196]\n",
            " [367 302 220 344 373 395 418 288 248 302]\n",
            " [274 226 180 230 294 288 264 194 175 175]\n",
            " [251 200 220 290 251 332 314 178 216 266]\n",
            " [289 261 166 258 286 312 352 192 206 248]\n",
            " [263 187 205 263 316 293 248 263 186 198]\n",
            " [209 267 226 296 261 353 306 215 204 255]]\n"
          ]
        }
      ],
      "source": [
        "\n",
        "D = np.random.randint(1, 11, (10, 10))\n",
        "E = np.random.randint(1, 11, (10, 10))\n",
        "\n",
        "\n",
        "matrix_addition = D + E\n",
        "print(\"Matrix Addition (D + E):\\n\", matrix_addition)\n",
        "\n",
        "\n",
        "matrix_subtraction = D - E\n",
        "print(\"\\nMatrix Subtraction (D - E):\\n\", matrix_subtraction)\n",
        "\n",
        "\n",
        "matrix_multiplication = np.dot(D, E)\n",
        "print(\"\\nMatrix Multiplication (D * E):\\n\", matrix_multiplication)\n"
      ]
    },
    {
      "cell_type": "code",
      "execution_count": 108,
      "id": "d4717c74-fd0d-4f53-b943-3dd613c5ea89",
      "metadata": {
        "id": "d4717c74-fd0d-4f53-b943-3dd613c5ea89"
      },
      "outputs": [],
      "source": []
    }
  ],
  "metadata": {
    "kernelspec": {
      "display_name": "Python 3 (ipykernel)",
      "language": "python",
      "name": "python3"
    },
    "language_info": {
      "codemirror_mode": {
        "name": "ipython",
        "version": 3
      },
      "file_extension": ".py",
      "mimetype": "text/x-python",
      "name": "python",
      "nbconvert_exporter": "python",
      "pygments_lexer": "ipython3",
      "version": "3.12.4"
    },
    "colab": {
      "provenance": []
    }
  },
  "nbformat": 4,
  "nbformat_minor": 5
}